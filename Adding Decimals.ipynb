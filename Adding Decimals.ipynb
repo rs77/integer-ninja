{
 "cells": [
  {
   "cell_type": "markdown",
   "metadata": {},
   "source": [
    "$$\\frac{x^2}{y+1}$$"
   ]
  },
  {
   "cell_type": "raw",
   "metadata": {},
   "source": [
    "How do you add two decimals together?\n",
    "Adding two decimal numbers together is a handy technique to learn as decimals numbers are commonly used with money which you would use everyday."
   ]
  }
 ],
 "metadata": {
  "kernelspec": {
   "display_name": "Python 3",
   "language": "python",
   "name": "python3"
  },
  "language_info": {
   "codemirror_mode": {
    "name": "ipython",
    "version": 3
   },
   "file_extension": ".py",
   "mimetype": "text/x-python",
   "name": "python",
   "nbconvert_exporter": "python",
   "pygments_lexer": "ipython3",
   "version": "3.6.6+"
  }
 },
 "nbformat": 4,
 "nbformat_minor": 2
}
